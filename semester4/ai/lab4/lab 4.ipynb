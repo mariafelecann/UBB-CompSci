{
 "cells": [
  {
   "cell_type": "markdown",
   "id": "b246b6ac",
   "metadata": {},
   "source": [
    "## A.I. Assignment 4\n",
    "\n",
    "## Learning Goals\n",
    "\n",
    "By the end of this lab, you should be able to:\n",
    "* Get familiar with tensors in pytorch\n",
    "* Get familiar with the activation functions for ANN \n",
    "* Create a simple perceptron model with pytorch\n",
    "\n"
   ]
  },
  {
   "cell_type": "markdown",
   "id": "8247d8bb",
   "metadata": {},
   "source": [
    "## Common activation functions for ANN:\n",
    "\n",
    "##### Sigmoid:\n",
    "\n",
    "The sigmoid function is a popular choice for activation functions in neural networks. It has an $S-shaped$ curve:\n",
    "$$f(x) = \\frac{1}{1+e^{-x}}.$$\n",
    "\n",
    "It has a number of appealing qualities:\n",
    "\n",
    "1. *Nonlinearity*: Because the sigmoid function is nonlinear, it enables the neural network to simulate nonlinear interactions between inputs and outputs. A neural network would simply be a linear model without a nonlinear activation function like sigmoid, which would significantly restrict its capacity to describe complex relationships.\n",
    "\n",
    "1. *Smoothness*: As the sigmoid function is differentiable and smooth, its derivative exist at every point. This is significant because it makes it possible for neural network training techniques based on gradients (such as backpropagation) to perform well.\n",
    "\n",
    "1. *Boundedness*: The sigmoid function is bounded between 0 and 1, it means  its outputs can be interpreted as probabilities.  It is most useful in applications like binary classification, where the goal is to predict whether an input belongs to one of two classes.\n",
    "\n",
    "1. *Monotonicity*: The sigmoid function is monotonic, which means that its outputs are always increasing or always decreasing with respect to its inputs. This makes it easy to interpret the effect of changes in input variables on the output of the network.\n",
    "\n",
    "##### ReLU (Rectified Linear Unit):\n",
    "\n",
    "The ReLU function is defined as $$f(x) = max(0, x).$$\n",
    "\n",
    "It is a widely used activation function in deep learning due to its simplicity and effectiveness.\n",
    "\n",
    "##### Tanh (Hyperbolic Tangent):\n",
    "\n",
    "The $\\tanh$ function is similar to the sigmoid function but produces outputs in the interval $[-1, 1]$:  \n",
    "$$f(x) = \\frac{e^{x}-e^{-x}}{e^{x}+e^{-x}}.$$\n",
    "\n",
    "##### Softmax:\n",
    "\n",
    "The softmax function is commonly used in the output layer of a neural network for multi-class classification problems. It normalizes the output into a probability distribution over the classes.\n",
    "\n",
    "Given a vector $\\vec{z}$ of $n$ real numbers, the softmax function calculates a vector $\\vec{s}$ of $n$ real numbers with the components:\n",
    "$$s_j = \\frac{e^{z_j}}{\\sum_{k=1}^{n} {e^{z_k}}}.$$\n",
    "\n",
    "\n",
    "##### Leaky ReLU:\n",
    "\n",
    "The Leaky ReLU is a variation of the ReLU function that introduces a small non-zero gradient for negative inputs. It is defined as \n",
    "$$f(x) = max(0.01 \\cdot x, x).$$\n",
    "\n",
    "##### ELU (Exponential Linear Unit):\n",
    "\n",
    "The ELU function is another variation of the ReLU function that introduces a small negative saturation value for negative inputs. It is defined as \n",
    "\n",
    "$$ f(x) = \\biggl\\{ \\begin{matrix} x, & for & x > 0 \\\\\n",
    "                      \\alpha \\cdot (e^{x} - 1), & for & x \\leq 0 \\end{matrix}$$\n",
    "where $\\alpha$ is a hyperparameter.\n",
    "\n",
    "##### Swish:\n",
    "\n",
    "The Swish function is a recent activation function that is a smooth approximation of the ReLU function. It is defined as f(x) = x * sigmoid(x)."
   ]
  },
  {
   "cell_type": "code",
   "execution_count": 2,
   "id": "68931328",
   "metadata": {},
   "outputs": [
    {
     "data": {
      "text/plain": [
       "False"
      ]
     },
     "execution_count": 2,
     "metadata": {},
     "output_type": "execute_result"
    }
   ],
   "source": [
    "import torch\n",
    "torch.cuda.is_available()"
   ]
  },
  {
   "cell_type": "markdown",
   "id": "93017ce5",
   "metadata": {},
   "source": [
    "create a tensor with requires_grad=True to tell PyTorch to track gradients for this tensor:"
   ]
  },
  {
   "cell_type": "code",
   "execution_count": 3,
   "id": "a14b6a39",
   "metadata": {},
   "outputs": [
    {
     "name": "stdout",
     "output_type": "stream",
     "text": [
      "tensor([2.], requires_grad=True)\n"
     ]
    }
   ],
   "source": [
    "x = torch.tensor([2.0], requires_grad=True)\n",
    "print(x)"
   ]
  },
  {
   "cell_type": "markdown",
   "id": "56340210",
   "metadata": {},
   "source": [
    "You can perform any operations on this tensor as usual:"
   ]
  },
  {
   "cell_type": "code",
   "execution_count": 4,
   "id": "99cb5a71",
   "metadata": {},
   "outputs": [
    {
     "name": "stdout",
     "output_type": "stream",
     "text": [
      "tensor([9.], grad_fn=<AddBackward0>)\n"
     ]
    }
   ],
   "source": [
    "y = x ** 2 + 2 * x + 1\n",
    "print(y)"
   ]
  },
  {
   "cell_type": "markdown",
   "id": "af8a18dc",
   "metadata": {},
   "source": [
    "To compute the gradients of y with respect to x, you need to call backward() on y:"
   ]
  },
  {
   "cell_type": "code",
   "execution_count": 5,
   "id": "8c244acf",
   "metadata": {},
   "outputs": [],
   "source": [
    "y.backward()"
   ]
  },
  {
   "cell_type": "code",
   "execution_count": 6,
   "id": "0e9b7e33",
   "metadata": {},
   "outputs": [
    {
     "data": {
      "text/plain": [
       "tensor([6.])"
      ]
     },
     "execution_count": 6,
     "metadata": {},
     "output_type": "execute_result"
    }
   ],
   "source": [
    "x.grad"
   ]
  },
  {
   "cell_type": "code",
   "execution_count": 7,
   "id": "87ce525b",
   "metadata": {},
   "outputs": [
    {
     "name": "stdout",
     "output_type": "stream",
     "text": [
      "tensor([1., 1., 1.])\n"
     ]
    }
   ],
   "source": [
    "import torch\n",
    "\n",
    "# Create a tensor with requires_grad=True\n",
    "x = torch.tensor([1., 2., 3.], requires_grad=True)\n",
    "\n",
    "# Compute a function of x\n",
    "y = x.sum()\n",
    "\n",
    "# Compute gradients of y with respect to x\n",
    "y.backward()\n",
    "\n",
    "# Print gradients of x\n",
    "print(x.grad)\n"
   ]
  },
  {
   "cell_type": "markdown",
   "id": "30804b8c",
   "metadata": {},
   "source": [
    "Exercise 1.\n",
    "\n",
    "Compute the gradient for the sigmoid activation function in 2 points using pytorch and check it with the known explicit formula "
   ]
  },
  {
   "cell_type": "code",
   "execution_count": 52,
   "id": "2dc94902",
   "metadata": {},
   "outputs": [
    {
     "name": "stdout",
     "output_type": "stream",
     "text": [
      "gradient of sigmoid at point x1: [0.10499363]\n",
      "gradient of sigmoid at point x2: [0.19661193]\n"
     ]
    }
   ],
   "source": [
    "# your code here\n",
    "import numpy as np\n",
    "import math\n",
    "\n",
    "def sigmoidFormula(x):\n",
    "    x = np.array(x)\n",
    "    exp_x = np.exp(-x)\n",
    "    sValues = 1 / (1 + exp_x)\n",
    "    return sValues\n",
    "\n",
    "x1 = torch.tensor([2.0], requires_grad=True)\n",
    "x2 = torch.tensor([-1.0], requires_grad=True)\n",
    "\n",
    "def sigmoid(x):\n",
    "    return 1 / (1 + torch.exp(-x))\n",
    "\n",
    "sigmoidX1 = sigmoid(x1)\n",
    "sigmoidX2 = sigmoid(x2)\n",
    "\n",
    "sigmoidX1.backward()\n",
    "sigmoidX2.backward()\n",
    "\n",
    "sigmoidX1Formula = sigmoidFormula(x1.detach().numpy()) * (1 - sigmoidFormula(x1.detach().numpy()))\n",
    "sigmoidX2Formula = sigmoidFormula(x2.detach().numpy()) * (1 - sigmoidFormula(x2.detach().numpy()))\n",
    "\n",
    "print(\"gradient of sigmoid at point x1:\", sigmoidX1Formula)\n",
    "print(\"gradient of sigmoid at point x2:\", sigmoidX2Formula)"
   ]
  },
  {
   "cell_type": "markdown",
   "id": "7e77a45c",
   "metadata": {},
   "source": [
    "Exercise 2.\n",
    "\n",
    "Compute the gradient for the linear activation function in 2 points using pytorch and check it with the known explicit formula"
   ]
  },
  {
   "cell_type": "code",
   "execution_count": 23,
   "id": "7054039e",
   "metadata": {},
   "outputs": [
    {
     "name": "stdout",
     "output_type": "stream",
     "text": [
      "gradient for the linear activation at x1: 1.0\n",
      "gradient for the linear activation at x2: 1.0\n"
     ]
    }
   ],
   "source": [
    "# your code here\n",
    "x1 = torch.tensor([2.0], requires_grad=True)\n",
    "x2 = torch.tensor([-1.0], requires_grad=True)\n",
    "\n",
    "linear_x1 = x1\n",
    "linear_x2 = x2\n",
    "linear_x1.backward()\n",
    "linear_x2.backward()\n",
    "\n",
    "print(\"gradient for the linear activation at x1:\", x1.grad.item())\n",
    "print(\"gradient for the linear activation at x2:\", x2.grad.item())\n"
   ]
  },
  {
   "cell_type": "markdown",
   "id": "dab117e3",
   "metadata": {},
   "source": [
    "Execise 3.\n",
    "\n",
    "Compute the gradient for the relu activation function in 2 points using pytorch and check it with the known explicit formula."
   ]
  },
  {
   "cell_type": "code",
   "execution_count": 28,
   "id": "1f69f4c5",
   "metadata": {},
   "outputs": [
    {
     "name": "stdout",
     "output_type": "stream",
     "text": [
      "gradient for the relu activation at x1: 1.0\n",
      "gradient for the relu activation at x2: 0.0\n",
      "known explicit formula for gradient at x1: 1\n",
      "known explicit formula for gradient at x2: 0\n"
     ]
    }
   ],
   "source": [
    "# your code here\n",
    "\n",
    "x1 = torch.tensor([2.0], requires_grad=True)\n",
    "x2 = torch.tensor([-1.0], requires_grad=True)\n",
    "\n",
    "reluX1 = torch.max(torch.tensor(0.0), x1)\n",
    "reluX2 = torch.max(torch.tensor(0.0), x2)\n",
    "\n",
    "reluX1.backward()\n",
    "reluX2.backward()\n",
    "\n",
    "print(\"gradient for the relu activation at x1:\", x1.grad.item())\n",
    "print(\"gradient for the relu activation at x2:\", x2.grad.item())\n",
    "\n",
    "knownEexplicitGradient_x1 = int(x1.item() > 0)\n",
    "knownExplicitGradient_x2 = int(x2.item() > 0)\n",
    "\n",
    "print(\"known explicit formula for gradient at x1:\", knownEexplicitGradient_x1)\n",
    "print(\"known explicit formula for gradient at x2:\", knownExplicitGradient_x2)"
   ]
  },
  {
   "cell_type": "markdown",
   "id": "ef985f68",
   "metadata": {},
   "source": [
    "Exercise 4. \n",
    "\n",
    "Write in python a function to plot the sigmoid activation function and its gradient using matplotlib"
   ]
  },
  {
   "cell_type": "code",
   "execution_count": 38,
   "id": "6c645aaf",
   "metadata": {},
   "outputs": [
    {
     "data": {
      "image/png": "[encoded data removed]",
      "text/plain": [
       "<Figure size 640x480 with 1 Axes>"
      ]
     },
     "metadata": {},
     "output_type": "display_data"
    }
   ],
   "source": [
    "# your code here\n",
    "import matplotlib.pyplot as plt\n",
    "\n",
    "sigmoid = lambda x: 1 / (1 + np.exp(-x))\n",
    "sigmoid_gradient = lambda x: sigmoid(x) * (1 - sigmoid(x))\n",
    "\n",
    "x_values = np.linspace(-10, 10, 100)\n",
    "\n",
    "plt.plot(x_values, sigmoid(x_values), label='sigmoid', color='pink')\n",
    "plt.plot(x_values, sigmoid_gradient(x_values), label='sigmoid gradient', color='green')\n",
    "plt.legend()\n",
    "plt.show()"
   ]
  },
  {
   "cell_type": "markdown",
   "id": "51202a51",
   "metadata": {},
   "source": [
    "Exercise 5. \n",
    "\n",
    "Write in python a function to plot the ReLU activation function and its gradient using matplotlib."
   ]
  },
  {
   "cell_type": "code",
   "execution_count": 40,
   "id": "99e49c47",
   "metadata": {},
   "outputs": [
    {
     "data": {
      "image/png": "[encoded data removed]",
      "text/plain": [
       "<Figure size 640x480 with 1 Axes>"
      ]
     },
     "metadata": {},
     "output_type": "display_data"
    }
   ],
   "source": [
    "# your code here\n",
    "\n",
    "\n",
    "relu = lambda x: np.maximum(0, x)\n",
    "relu_gradient = lambda x: np.where(x > 0, 1, 0)\n",
    "\n",
    "x_values = np.linspace(-10, 10, 100)\n",
    "\n",
    "plt.plot(x_values, relu(x_values), label='relu', color='pink')\n",
    "plt.plot(x_values, relu_gradient(x_values), label='relu gradient', color='green')\n",
    "plt.legend()\n",
    "plt.show()"
   ]
  },
  {
   "cell_type": "markdown",
   "id": "c81684ff",
   "metadata": {},
   "source": [
    "Exercise 6. \n",
    "\n",
    "Write in python a function to plot the tanh activation function and its gradient using matplotlib."
   ]
  },
  {
   "cell_type": "code",
   "execution_count": 41,
   "id": "559d421d",
   "metadata": {},
   "outputs": [
    {
     "data": {
      "image/png": "[encoded data removed]",
      "text/plain": [
       "<Figure size 640x480 with 1 Axes>"
      ]
     },
     "metadata": {},
     "output_type": "display_data"
    }
   ],
   "source": [
    "# your code here\n",
    "tanh = lambda x: np.tanh(x)\n",
    "tanh_gradient = lambda x: 1 - np.tanh(x) ** 2\n",
    "\n",
    "x_values = np.linspace(-10, 10, 100)\n",
    "\n",
    "plt.plot(x_values, tanh(x_values), label='tanh', color='pink')\n",
    "plt.plot(x_values, tanh_gradient(x_values), label='tanh gradient', color='green')\n",
    "plt.legend()\n",
    "plt.show()\n"
   ]
  },
  {
   "cell_type": "markdown",
   "id": "8740a0a8",
   "metadata": {},
   "source": [
    "Exercise 7. \n",
    "\n",
    "Write in python a function to plot the leaky ReLU activation function and its gradient using matplotlib."
   ]
  },
  {
   "cell_type": "code",
   "execution_count": 42,
   "id": "7b455646",
   "metadata": {},
   "outputs": [
    {
     "data": {
      "image/png": "[encoded data removed]",
      "text/plain": [
       "<Figure size 640x480 with 1 Axes>"
      ]
     },
     "metadata": {},
     "output_type": "display_data"
    }
   ],
   "source": [
    "# your code here\n",
    "leakyRelu = lambda x, alpha: np.maximum(alpha * x, x)\n",
    "leakyReluGradient = lambda x, alpha: np.where(x > 0, 1, alpha)\n",
    "\n",
    "x_values = np.linspace(-10, 10, 100)\n",
    "alpha = 0.1\n",
    "\n",
    "plt.plot(x_values, leakyRelu(x_values, alpha), label='leaky relu', color='pink')\n",
    "plt.plot(x_values, leakyReluGradient(x_values, alpha), label='leaky relu gradient', color='green')\n",
    "plt.legend()\n",
    "plt.show()"
   ]
  },
  {
   "cell_type": "markdown",
   "id": "4e33119c",
   "metadata": {},
   "source": [
    "## Perceptron\n",
    "\n",
    "We define a class called *Perceptron* that inherits from *torch.nn.Module*. \n",
    "\n",
    "In the constructor, we define a single fully-connected linear layer with $input_dim$ inputs and $output_dim$ outputs, and a $sigmoid$ activation function. In the forward method, we apply the linear transformation to the input $x$, and then apply the sigmoid activation function to the output.\n",
    "\n"
   ]
  },
  {
   "cell_type": "code",
   "execution_count": 43,
   "id": "aa86d7c0",
   "metadata": {},
   "outputs": [],
   "source": [
    "import torch\n",
    "import torch.nn as nn\n",
    "\n",
    "input_size = 2\n",
    "output_size = 1\n",
    "\n",
    "class Perceptron(torch.nn.Module):\n",
    "    def __init__(self, input_dim, output_dim):\n",
    "        super(Perceptron, self).__init__()\n",
    "        self.linear = torch.nn.Linear(input_dim, output_dim)\n",
    "        self.activation = torch.nn.Sigmoid()\n",
    "        \n",
    "    def forward(self, x):\n",
    "        x = self.linear(x)\n",
    "        x = self.activation(x)\n",
    "        return x\n"
   ]
  },
  {
   "cell_type": "markdown",
   "id": "a178820e",
   "metadata": {},
   "source": [
    " We create an instance of this model and use it to make predictions like this:"
   ]
  },
  {
   "cell_type": "code",
   "execution_count": 44,
   "id": "78513e21",
   "metadata": {},
   "outputs": [
    {
     "name": "stdout",
     "output_type": "stream",
     "text": [
      "tensor([0.6320], grad_fn=<SigmoidBackward0>)\n"
     ]
    }
   ],
   "source": [
    "perceptron = Perceptron(input_size, output_size)\n",
    "x = torch.tensor([0.5, 0.2])\n",
    "y = perceptron(x)\n",
    "print(y)\n"
   ]
  },
  {
   "cell_type": "code",
   "execution_count": 45,
   "id": "54070b51",
   "metadata": {},
   "outputs": [
    {
     "name": "stdout",
     "output_type": "stream",
     "text": [
      "Epoch [100/1000], Loss: 0.5544\n",
      "Epoch [200/1000], Loss: 0.5521\n",
      "Epoch [300/1000], Loss: 0.5519\n",
      "Epoch [400/1000], Loss: 0.5519\n",
      "Epoch [500/1000], Loss: 0.5519\n",
      "Epoch [600/1000], Loss: 0.5519\n",
      "Epoch [700/1000], Loss: 0.5519\n",
      "Epoch [800/1000], Loss: 0.5519\n",
      "Epoch [900/1000], Loss: 0.5519\n",
      "Epoch [1000/1000], Loss: 0.5519\n"
     ]
    }
   ],
   "source": [
    "\n",
    "# Define the loss function and optimizer\n",
    "criterion = nn.BCELoss()  # Binary cross-entropy loss\n",
    "optimizer = torch.optim.SGD(perceptron.parameters(), lr=0.1)  # Stochastic gradient descent optimizer\n",
    "\n",
    "# Generate some random input data and labels\n",
    "input_data = torch.randn((10, input_size))\n",
    "labels = torch.randint(0, 2, (10, output_size)).float()\n",
    "\n",
    "# Train the model\n",
    "num_epochs = 1000\n",
    "for epoch in range(num_epochs):\n",
    "    # Forward pass\n",
    "    outputs = perceptron(input_data)\n",
    "    loss = criterion(outputs, labels)\n",
    "\n",
    "    # Backward pass and optimization\n",
    "    optimizer.zero_grad()\n",
    "    loss.backward()\n",
    "    optimizer.step()\n",
    "\n",
    "    # Print the loss every 100 epochs\n",
    "    if (epoch + 1) % 100 == 0:\n",
    "        print(f'Epoch [{epoch+1}/{num_epochs}], Loss: {loss.item():.4f}')"
   ]
  },
  {
   "cell_type": "markdown",
   "id": "75b840f4",
   "metadata": {},
   "source": [
    "Exercise 8: \n",
    "\n",
    "Implement a binary classification model using the Perceptron class in PyTorch for the logic OR. \n",
    "\n",
    "Your task is to create a Perceptron instance and train it using a proper  dataset and the binary cross-entropy loss with stochastic gradient descent optimizer. \n",
    "\n",
    "Here are the steps you can follow:\n",
    "\n",
    "Define a Perceptron class that inherits from torch.nn.Module and implements a binary classification model.\n",
    "\n",
    "Define a binary cross-entropy loss function using the torch.nn.BCEWithLogitsLoss module.\n",
    "\n",
    "Define a stochastic gradient descent optimizer using the torch.optim.SGD module.\n",
    "\n",
    "Train the Perceptron model on the training set using the binary cross-entropy loss and stochastic gradient descent optimizer.\n",
    "\n",
    "Evaluate the trained model compute the accuracy.\n"
   ]
  },
  {
   "cell_type": "code",
   "execution_count": 54,
   "id": "dc3c5d3e",
   "metadata": {},
   "outputs": [
    {
     "name": "stdout",
     "output_type": "stream",
     "text": [
      "epoch number [100/1000], with the loss: 0.3326\n",
      "epoch number [200/1000], with the loss: 0.2610\n",
      "epoch number [300/1000], with the loss: 0.2134\n",
      "epoch number [400/1000], with the loss: 0.1796\n",
      "epoch number [500/1000], with the loss: 0.1546\n",
      "epoch number [600/1000], with the loss: 0.1353\n",
      "epoch number [700/1000], with the loss: 0.1201\n",
      "epoch number [800/1000], with the loss: 0.1078\n",
      "epoch number [900/1000], with the loss: 0.0977\n",
      "epoch number [1000/1000], with the loss: 0.0892\n",
      "accuracy: 1.0\n"
     ]
    }
   ],
   "source": [
    "import torch.nn as nn\n",
    "import torch.optim as optim\n",
    "\n",
    "class Perceptron(nn.Module):\n",
    "    def __init__(self, input_dim):\n",
    "        super(Perceptron, self).__init__()\n",
    "        self.linear = nn.Linear(input_dim, 1)\n",
    "        self.activation = nn.Sigmoid()\n",
    "\n",
    "    def forward(self, x):\n",
    "        x = self.linear(x)\n",
    "        x = self.activation(x)\n",
    "        return x\n",
    "\n",
    "input_size = 2\n",
    "input_data = torch.tensor([[0, 0], [0, 1], [1, 0], [1, 1]], dtype=torch.float32)\n",
    "labels = torch.tensor([[0], [1], [1], [1]], dtype=torch.float32)\n",
    "perceptron = Perceptron(input_size)\n",
    "criterion = nn.BCELoss()\n",
    "optimizer = optim.SGD(perceptron.parameters(), lr=0.1)\n",
    "\n",
    "numberOfEpochs = 1000\n",
    "for epoch in range(numberOfEpochs):\n",
    "    outputs = perceptron(input_data)\n",
    "    loss = criterion(outputs, labels)\n",
    "\n",
    "    optimizer.zero_grad()\n",
    "    loss.backward()\n",
    "    optimizer.step()\n",
    "\n",
    "    if (epoch + 1) % 100 == 0:\n",
    "        print(f'epoch number [{epoch+1}/{numberOfEpochs}], with the loss: {loss.item():.4f}')\n",
    "\n",
    "with torch.no_grad():\n",
    "    predicted_labels = perceptron(input_data)\n",
    "    predicted_labels = torch.round(predicted_labels)\n",
    "    accuracy = (predicted_labels == labels).sum().item() / labels.size(0)\n",
    "\n",
    "print(\"accuracy:\", accuracy)\n"
   ]
  },
  {
   "cell_type": "code",
   "execution_count": null,
   "id": "e127b91a-49cb-445f-b6a8-ee2573fe754c",
   "metadata": {},
   "outputs": [],
   "source": []
  }
 ],
 "metadata": {
  "kernelspec": {
   "display_name": "Python 3 (ipykernel)",
   "language": "python",
   "name": "python3"
  },
  "language_info": {
   "codemirror_mode": {
    "name": "ipython",
    "version": 3
   },
   "file_extension": ".py",
   "mimetype": "text/x-python",
   "name": "python",
   "nbconvert_exporter": "python",
   "pygments_lexer": "ipython3",
   "version": "3.11.8"
  }
 },
 "nbformat": 4,
 "nbformat_minor": 5
}
